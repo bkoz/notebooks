{
 "cells": [
  {
   "cell_type": "code",
   "execution_count": 22,
   "metadata": {},
   "outputs": [
    {
     "name": "stdout",
     "output_type": "stream",
     "text": [
      "Model wiped\n",
      "Model training, Success. \n",
      "Trained in 0.01591 seconds. \n",
      "Model training score: 0.8372615039281706.\n",
      "<Response [200]>\n",
      "{\n",
      "  \"prediction\": [\n",
      "    1, \n",
      "    0\n",
      "  ]\n",
      "}\n",
      "\n"
     ]
    }
   ],
   "source": [
    "import requests\n",
    "\n",
    "# Clear and train the model.\n",
    "r = requests.get(\"http://sklearnflask-model.apps.shared-na4.na4.openshift.opentlc.com/wipe\")\n",
    "print(r.text)\n",
    "r = requests.get(\"http://sklearnflask-model.apps.shared-na4.na4.openshift.opentlc.com/train\")\n",
    "print('Model training,', r.text)\n",
    "\n",
    "# Make two predictions.\n",
    "payload = [{\"Age\": 15, \"Sex\": \"female\", \"Embarked\": \"S\"}, {\"Age\": 15, \"Sex\": \"male\", \"Embarked\": \"Q\"}]\n",
    "url = \"http://sklearnflask-model.apps.shared-na4.na4.openshift.opentlc.com/predict\"\n",
    "r = requests.post(url, json=payload)\n",
    "\n",
    "print(r)\n",
    "print(r.text)"
   ]
  },
  {
   "cell_type": "code",
   "execution_count": null,
   "metadata": {},
   "outputs": [],
   "source": []
  }
 ],
 "metadata": {
  "kernelspec": {
   "display_name": "Python 3",
   "language": "python",
   "name": "python3"
  },
  "language_info": {
   "codemirror_mode": {
    "name": "ipython",
    "version": 3
   },
   "file_extension": ".py",
   "mimetype": "text/x-python",
   "name": "python",
   "nbconvert_exporter": "python",
   "pygments_lexer": "ipython3",
   "version": "3.8.5"
  }
 },
 "nbformat": 4,
 "nbformat_minor": 4
}
