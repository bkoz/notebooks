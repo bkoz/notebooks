{
 "cells": [
  {
   "cell_type": "code",
   "execution_count": null,
   "metadata": {
    "id": "wZTyFS7gG_sV"
   },
   "outputs": [],
   "source": [
    "#hide\n",
    "!pip install -Uqq fastbook\n",
    "import fastbook\n",
    "fastbook.setup_book()"
   ]
  },
  {
   "cell_type": "code",
   "execution_count": null,
   "metadata": {
    "id": "_--fQObkG_sW"
   },
   "outputs": [],
   "source": [
    "#hide\n",
    "from fastbook import *"
   ]
  },
  {
   "cell_type": "code",
   "execution_count": null,
   "metadata": {
    "id": "eeLNQPlWHNjM"
   },
   "outputs": [],
   "source": [
    "#\n",
    "# Search Duck Duck Go for images.\n",
    "#\n",
    "def search_images_ddg(key,max_n=200):\n",
    "     \"\"\"Search for 'key' with DuckDuckGo and return a unique urls of 'max_n' images\n",
    "        (Adopted from https://github.com/deepanprabhu/duckduckgo-images-api)\n",
    "     \"\"\"\n",
    "     url        = 'https://duckduckgo.com/'\n",
    "     params     = {'q':key}\n",
    "     res        = requests.post(url,data=params)\n",
    "     searchObj  = re.search(r'vqd=([\\d-]+)\\&',res.text)\n",
    "     if not searchObj: print('Token Parsing Failed !'); return\n",
    "     requestUrl = url + 'i.js'\n",
    "     headers    = {'User-Agent': 'Mozilla/5.0 (X11; Ubuntu; Linux x86_64; rv:71.0) Gecko/20100101 Firefox/71.0'}\n",
    "     params     = (('l','us-en'),('o','json'),('q',key),('vqd',searchObj.group(1)),('f',',,,'),('p','1'),('v7exp','a'))\n",
    "     urls       = []\n",
    "     while True:\n",
    "         try:\n",
    "             res  = requests.get(requestUrl,headers=headers,params=params)\n",
    "             data = json.loads(res.text)\n",
    "             for obj in data['results']:\n",
    "                 urls.append(obj['image'])\n",
    "                 max_n = max_n - 1\n",
    "                 if max_n < 1: return L(set(urls))     # dedupe\n",
    "             if 'next' not in data: return L(set(urls))\n",
    "             requestUrl = url + data['next']\n",
    "         except:\n",
    "             pass"
   ]
  },
  {
   "cell_type": "code",
   "execution_count": null,
   "metadata": {},
   "outputs": [],
   "source": [
    "guitar_types = 'acoustic','electric'\n",
    "path = Path('../images/guitars')\n",
    "\n",
    "\n",
    "path.mkdir(exist_ok=True)\n",
    "for o in guitar_types:\n",
    "    dest = (path/o)\n",
    "    dest.mkdir(exist_ok=True)\n",
    "    results = search_images_ddg(f'{o} guitar', max_n=150)\n",
    "    i = 0\n",
    "    for r in results:\n",
    "        fname = f'{dest}/{i}-tmp.jpg'\n",
    "        # print(fname)\n",
    "        download_url(r, fname, timeout=20)\n",
    "        i += 1"
   ]
  },
  {
   "cell_type": "code",
   "execution_count": null,
   "metadata": {},
   "outputs": [],
   "source": [
    "??download_url"
   ]
  },
  {
   "cell_type": "code",
   "execution_count": null,
   "metadata": {},
   "outputs": [],
   "source": []
  },
  {
   "cell_type": "code",
   "execution_count": null,
   "metadata": {},
   "outputs": [],
   "source": []
  }
 ],
 "metadata": {
  "accelerator": "GPU",
  "colab": {
   "authorship_tag": "ABX9TyOzSEi+6gjztF3A/k8n2F3b",
   "collapsed_sections": [],
   "name": "01-duckduckgo.ipynb",
   "provenance": []
  },
  "kernelspec": {
   "display_name": "Python 3",
   "language": "python",
   "name": "python3"
  },
  "language_info": {
   "codemirror_mode": {
    "name": "ipython",
    "version": 3
   },
   "file_extension": ".py",
   "mimetype": "text/x-python",
   "name": "python",
   "nbconvert_exporter": "python",
   "pygments_lexer": "ipython3",
   "version": "3.8.6"
  }
 },
 "nbformat": 4,
 "nbformat_minor": 4
}
