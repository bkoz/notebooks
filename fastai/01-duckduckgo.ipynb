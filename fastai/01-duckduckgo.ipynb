{
 "cells": [
  {
   "cell_type": "code",
   "execution_count": 1,
   "metadata": {
    "id": "wZTyFS7gG_sV"
   },
   "outputs": [],
   "source": [
    "#hide\n",
    "!pip install -Uqq fastbook\n",
    "import fastbook\n",
    "fastbook.setup_book()"
   ]
  },
  {
   "cell_type": "code",
   "execution_count": 2,
   "metadata": {
    "id": "_--fQObkG_sW"
   },
   "outputs": [],
   "source": [
    "#hide\n",
    "from fastbook import *"
   ]
  },
  {
   "cell_type": "markdown",
   "metadata": {
    "id": "FHOuR1arG_sZ"
   },
   "source": [
    "### Running Your First Notebook"
   ]
  },
  {
   "cell_type": "code",
   "execution_count": 3,
   "metadata": {
    "id": "eeLNQPlWHNjM"
   },
   "outputs": [],
   "source": [
    "#\n",
    "# Search Duck Duck Go for images.\n",
    "#\n",
    "def search_images_ddg(key,max_n=200):\n",
    "     \"\"\"Search for 'key' with DuckDuckGo and return a unique urls of 'max_n' images\n",
    "        (Adopted from https://github.com/deepanprabhu/duckduckgo-images-api)\n",
    "     \"\"\"\n",
    "     url        = 'https://duckduckgo.com/'\n",
    "     params     = {'q':key}\n",
    "     res        = requests.post(url,data=params)\n",
    "     searchObj  = re.search(r'vqd=([\\d-]+)\\&',res.text)\n",
    "     if not searchObj: print('Token Parsing Failed !'); return\n",
    "     requestUrl = url + 'i.js'\n",
    "     headers    = {'User-Agent': 'Mozilla/5.0 (X11; Ubuntu; Linux x86_64; rv:71.0) Gecko/20100101 Firefox/71.0'}\n",
    "     params     = (('l','us-en'),('o','json'),('q',key),('vqd',searchObj.group(1)),('f',',,,'),('p','1'),('v7exp','a'))\n",
    "     urls       = []\n",
    "     while True:\n",
    "         try:\n",
    "             res  = requests.get(requestUrl,headers=headers,params=params)\n",
    "             data = json.loads(res.text)\n",
    "             for obj in data['results']:\n",
    "                 urls.append(obj['image'])\n",
    "                 max_n = max_n - 1\n",
    "                 if max_n < 1: return L(set(urls))     # dedupe\n",
    "             if 'next' not in data: return L(set(urls))\n",
    "             requestUrl = url + data['next']\n",
    "         except:\n",
    "             pass"
   ]
  },
  {
   "cell_type": "code",
   "execution_count": null,
   "metadata": {
    "id": "P6QQXXvBG_sZ"
   },
   "outputs": [
    {
     "data": {
      "text/html": [
       "\n",
       "    <div>\n",
       "        <style>\n",
       "            /* Turns off some styling */\n",
       "            progress {\n",
       "                /* gets rid of default border in Firefox and Opera. */\n",
       "                border: none;\n",
       "                /* Needs to be in here for Safari polyfill so background images work as expected. */\n",
       "                background-size: auto;\n",
       "            }\n",
       "            .progress-bar-interrupted, .progress-bar-interrupted::-webkit-progress-bar {\n",
       "                background: #F44336;\n",
       "            }\n",
       "        </style>\n",
       "      <progress value='0' class='' max='1' style='width:300px; height:20px; vertical-align: middle;'></progress>\n",
       "      0.00% [0/1 00:00<00:00]\n",
       "    </div>\n",
       "    \n",
       "<table border=\"1\" class=\"dataframe\">\n",
       "  <thead>\n",
       "    <tr style=\"text-align: left;\">\n",
       "      <th>epoch</th>\n",
       "      <th>train_loss</th>\n",
       "      <th>valid_loss</th>\n",
       "      <th>error_rate</th>\n",
       "      <th>time</th>\n",
       "    </tr>\n",
       "  </thead>\n",
       "  <tbody>\n",
       "  </tbody>\n",
       "</table><p>\n",
       "\n",
       "    <div>\n",
       "        <style>\n",
       "            /* Turns off some styling */\n",
       "            progress {\n",
       "                /* gets rid of default border in Firefox and Opera. */\n",
       "                border: none;\n",
       "                /* Needs to be in here for Safari polyfill so background images work as expected. */\n",
       "                background-size: auto;\n",
       "            }\n",
       "            .progress-bar-interrupted, .progress-bar-interrupted::-webkit-progress-bar {\n",
       "                background: #F44336;\n",
       "            }\n",
       "        </style>\n",
       "      <progress value='0' class='' max='92' style='width:300px; height:20px; vertical-align: middle;'></progress>\n",
       "      0.00% [0/92 00:00<00:00]\n",
       "    </div>\n",
       "    "
      ],
      "text/plain": [
       "<IPython.core.display.HTML object>"
      ]
     },
     "metadata": {},
     "output_type": "display_data"
    }
   ],
   "source": [
    "# \n",
    "# Transfer learning example.\n",
    "#\n",
    "from fastai.vision.all import *\n",
    "path = untar_data(URLs.PETS)/'images'\n",
    "\n",
    "def is_cat(x): return x[0].isupper()\n",
    "dls = ImageDataLoaders.from_name_func(\n",
    "    path, get_image_files(path), valid_pct=0.2, seed=42,\n",
    "    label_func=is_cat, item_tfms=Resize(224))\n",
    "\n",
    "learn = cnn_learner(dls, resnet34, metrics=error_rate)\n",
    "learn.fine_tune(1)"
   ]
  },
  {
   "cell_type": "code",
   "execution_count": null,
   "metadata": {
    "id": "s168mB2GHdLW"
   },
   "outputs": [],
   "source": [
    "urls = search_images_ddg('cat', max_n=100)\n",
    "len(urls),urls[0]\n",
    "download_url(urls[0], 'cat.jpg')\n",
    "im = Image.open('cat.jpg')\n",
    "im.thumbnail((256,256))\n",
    "im"
   ]
  },
  {
   "cell_type": "code",
   "execution_count": null,
   "metadata": {
    "id": "c8f4j3Q5LVvp"
   },
   "outputs": [],
   "source": [
    "# Replace the .jpg file\n",
    "uploader = SimpleNamespace(data = ['cat.jpg'])"
   ]
  },
  {
   "cell_type": "code",
   "execution_count": null,
   "metadata": {
    "id": "mbKqyLpFLcOP"
   },
   "outputs": [],
   "source": [
    "img = PILImage.create(uploader.data[0])\n",
    "is_cat,_,probs = learn.predict(img)\n",
    "print(f\"Is this a cat?: {is_cat}.\")\n",
    "print(f\"Probability it's a cat: {probs[1].item():.6f}\")"
   ]
  },
  {
   "cell_type": "code",
   "execution_count": null,
   "metadata": {
    "id": "oleAd5LqIaLd"
   },
   "outputs": [],
   "source": [
    "urls = search_images_ddg('dog', max_n=100)\n",
    "len(urls),urls[0]\n",
    "download_url(urls[0], 'dog.jpg')\n",
    "dog = Image.open('dog.jpg')\n",
    "dog.thumbnail((256,256))\n",
    "dog"
   ]
  },
  {
   "cell_type": "code",
   "execution_count": null,
   "metadata": {
    "id": "y3zfTwBVG_sa"
   },
   "outputs": [],
   "source": [
    "# Replace the .jpg file\n",
    "uploader = SimpleNamespace(data = ['dog.jpg'])"
   ]
  },
  {
   "cell_type": "code",
   "execution_count": null,
   "metadata": {
    "id": "i7IHvteHG_sa"
   },
   "outputs": [],
   "source": [
    "img = PILImage.create(uploader.data[0])\n",
    "is_cat,_,probs = learn.predict(img)\n",
    "print(f\"Is this a cat?: {is_cat}.\")\n",
    "print(f\"Probability it's a cat: {probs[1].item():.6f}\")"
   ]
  },
  {
   "cell_type": "code",
   "execution_count": null,
   "metadata": {
    "id": "M-FALOWMKles"
   },
   "outputs": [],
   "source": []
  }
 ],
 "metadata": {
  "accelerator": "GPU",
  "colab": {
   "authorship_tag": "ABX9TyOzSEi+6gjztF3A/k8n2F3b",
   "collapsed_sections": [],
   "name": "01-duckduckgo.ipynb",
   "provenance": []
  },
  "kernelspec": {
   "display_name": "Python 3",
   "language": "python",
   "name": "python3"
  },
  "language_info": {
   "codemirror_mode": {
    "name": "ipython",
    "version": 3
   },
   "file_extension": ".py",
   "mimetype": "text/x-python",
   "name": "python",
   "nbconvert_exporter": "python",
   "pygments_lexer": "ipython3",
   "version": "3.8.6"
  }
 },
 "nbformat": 4,
 "nbformat_minor": 4
}
