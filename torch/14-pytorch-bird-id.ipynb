{
 "cells": [
  {
   "cell_type": "code",
   "execution_count": null,
   "id": "private-palestinian",
   "metadata": {},
   "outputs": [],
   "source": [
    "from torchvision import transforms\n",
    "import torch\n",
    "import urllib\n",
    "from PIL import Image\n",
    "\n",
    "transform_test = transforms.Compose([\n",
    "    transforms.Resize((600, 600), Image.BILINEAR),\n",
    "    transforms.CenterCrop((448, 448)),\n",
    "    # transforms.RandomHorizontalFlip(),  # only if train\n",
    "    transforms.ToTensor(),\n",
    "    transforms.Normalize((0.485, 0.456, 0.406), (0.229, 0.224, 0.225)),\n",
    "])\n",
    "\n",
    "\n",
    "model = torch.hub.load('nicolalandro/ntsnet-cub200', 'ntsnet', pretrained=True, **{'topN': 6, 'device':'cpu', 'num_classes': 200})\n",
    "model.eval()\n",
    "\n",
    "url = 'https://raw.githubusercontent.com/nicolalandro/ntsnet-cub200/master/images/nts-net.png'\n",
    "url = 'https://external-content.duckduckgo.com/iu/?u=https%3A%2F%2Ftse1.mm.bing.net%2Fth%3Fid%3DOIP.s5oy10Y_yf6yA25JdkPZvgHaEo%26pid%3DApi&f=1'\n",
    "img = Image.open(urllib.request.urlopen(url))\n",
    "scaled_img = transform_test(img)\n",
    "torch_images = scaled_img.unsqueeze(0)\n",
    "\n",
    "with torch.no_grad():\n",
    "    top_n_coordinates, concat_out, raw_logits, concat_logits, part_logits, top_n_index, top_n_prob = model(torch_images)\n",
    "\n",
    "    _, predict = torch.max(concat_logits, 1)\n",
    "    pred_id = predict.item()\n",
    "    print('bird class:', model.bird_classes[pred_id])"
   ]
  },
  {
   "cell_type": "code",
   "execution_count": null,
   "id": "lined-accountability",
   "metadata": {},
   "outputs": [],
   "source": [
    "display(img)"
   ]
  },
  {
   "cell_type": "code",
   "execution_count": null,
   "id": "legislative-fiber",
   "metadata": {},
   "outputs": [],
   "source": []
  }
 ],
 "metadata": {
  "kernelspec": {
   "display_name": "Python 3",
   "language": "python",
   "name": "python3"
  },
  "language_info": {
   "codemirror_mode": {
    "name": "ipython",
    "version": 3
   },
   "file_extension": ".py",
   "mimetype": "text/x-python",
   "name": "python",
   "nbconvert_exporter": "python",
   "pygments_lexer": "ipython3",
   "version": "3.8.6"
  }
 },
 "nbformat": 4,
 "nbformat_minor": 5
}
