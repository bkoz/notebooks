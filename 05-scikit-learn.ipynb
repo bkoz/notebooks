{
 "cells": [
  {
   "cell_type": "markdown",
   "metadata": {},
   "source": [
    "$$ y = x_{0} + 2x_{1} + 3 $$"
   ]
  },
  {
   "cell_type": "code",
   "execution_count": 19,
   "metadata": {},
   "outputs": [
    {
     "name": "stdout",
     "output_type": "stream",
     "text": [
      "X = [[1 1]\n",
      " [1 2]\n",
      " [2 2]\n",
      " [2 3]]\n",
      "y = [ 6  8  9 11]\n",
      "score = 1.0\n",
      "coef = [1. 2.] intercept = 3.000000000000001\n",
      "predict( [[3, 5]] ) = [16.]\n"
     ]
    }
   ],
   "source": [
    "import numpy as np\n",
    "from sklearn.linear_model import LinearRegression\n",
    "\n",
    "# X is the training data.\n",
    "X = np.array([[1, 1], [1, 2], [2, 2], [2, 3]])\n",
    "\n",
    "# y is an array of target/sample values.\n",
    "# y = 1 * x_0 + 2 * x_1 + 3\n",
    "y = np.dot(X, np.array([1, 2])) + 3\n",
    "\n",
    "print('X =', X)\n",
    "print('y =', y)\n",
    "\n",
    "reg = LinearRegression().fit(X, y)\n",
    "score = reg.score(X, y)\n",
    "reg.coef_\n",
    "reg.intercept_\n",
    "reg.predict(np.array([[3, 5]]))\n",
    "\n",
    "print('score =', score)\n",
    "print('coef =', reg.coef_, 'intercept =', reg.intercept_)\n",
    "print('predict( [[3, 5]] ) =', reg.predict(np.array([[3, 5]])))"
   ]
  },
  {
   "cell_type": "code",
   "execution_count": 28,
   "metadata": {},
   "outputs": [
    {
     "name": "stdout",
     "output_type": "stream",
     "text": [
      "check => 16\n"
     ]
    }
   ],
   "source": [
    "print('check =>', (3*1) + (5*2) + 3 )"
   ]
  },
  {
   "cell_type": "code",
   "execution_count": null,
   "metadata": {},
   "outputs": [],
   "source": []
  }
 ],
 "metadata": {
  "kernelspec": {
   "display_name": "Python 3",
   "language": "python",
   "name": "python3"
  },
  "language_info": {
   "codemirror_mode": {
    "name": "ipython",
    "version": 3
   },
   "file_extension": ".py",
   "mimetype": "text/x-python",
   "name": "python",
   "nbconvert_exporter": "python",
   "pygments_lexer": "ipython3",
   "version": "3.8.5"
  }
 },
 "nbformat": 4,
 "nbformat_minor": 4
}
