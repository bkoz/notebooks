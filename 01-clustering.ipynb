{
 "cells": [
  {
   "cell_type": "code",
   "execution_count": 5,
   "metadata": {},
   "outputs": [
    {
     "name": "stdout",
     "output_type": "stream",
     "text": [
      "KMeans(n_clusters=7)\n",
      "True\n",
      "6\n"
     ]
    }
   ],
   "source": [
    "#\n",
    "# https://chapeau.freevariable.com/2018/10/model-s2i.html\n",
    "#\n",
    "requirements = [[\"numpy\", \"1.15\"], [\"scikit-learn\", \"0.19.2\"], [\"scipy\", \"1.0.1\"]]\n",
    "\n",
    "import numpy as np\n",
    "from sklearn.cluster import KMeans\n",
    "\n",
    "def predictor(x):\n",
    "    return kmodel.predict([x]).tolist()[0]\n",
    "\n",
    "def validator(x):\n",
    "    return len(x) == DIMENSIONS\n",
    "\n",
    "DIMENSIONS = 2\n",
    "randos = np.random.random((40000,DIMENSIONS))\n",
    "\n",
    "kmodel = KMeans(n_clusters=7).fit(randos)\n",
    "\n",
    "print(kmodel)\n",
    "x = [5,5]\n",
    "print(validator(x))\n",
    "print(predictor(x))"
   ]
  },
  {
   "cell_type": "code",
   "execution_count": null,
   "metadata": {},
   "outputs": [],
   "source": []
  }
 ],
 "metadata": {
  "kernelspec": {
   "display_name": "Python 3",
   "language": "python",
   "name": "python3"
  },
  "language_info": {
   "codemirror_mode": {
    "name": "ipython",
    "version": 3
   },
   "file_extension": ".py",
   "mimetype": "text/x-python",
   "name": "python",
   "nbconvert_exporter": "python",
   "pygments_lexer": "ipython3",
   "version": "3.8.5"
  }
 },
 "nbformat": 4,
 "nbformat_minor": 4
}
