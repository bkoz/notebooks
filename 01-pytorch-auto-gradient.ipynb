{
 "cells": [
  {
   "cell_type": "markdown",
   "id": "protective-stevens",
   "metadata": {
    "tags": []
   },
   "source": [
    "Implentation of Krista King's [Finding the gradient vector of a multivariable function](https://youtu.be/Ng_MCMyIgPI). 2 approaches are shown (F vs. Q) depending on how the tensors are represented."
   ]
  },
  {
   "cell_type": "code",
   "execution_count": 82,
   "id": "together-investigation",
   "metadata": {
    "tags": []
   },
   "outputs": [],
   "source": [
    "import torch\n",
    "import math"
   ]
  },
  {
   "cell_type": "code",
   "execution_count": 83,
   "id": "incorporated-curve",
   "metadata": {},
   "outputs": [],
   "source": [
    "x = torch.tensor(1.0, requires_grad=True)\n",
    "y = torch.tensor(1.0, requires_grad=True)\n",
    "v = torch.tensor([1.0, 1.0], requires_grad=True)"
   ]
  },
  {
   "cell_type": "code",
   "execution_count": 84,
   "id": "renewable-experiment",
   "metadata": {},
   "outputs": [
    {
     "name": "stdout",
     "output_type": "stream",
     "text": [
      "tensor(1., requires_grad=True) tensor(1., requires_grad=True)\n"
     ]
    }
   ],
   "source": [
    "print(x, y)"
   ]
  },
  {
   "cell_type": "markdown",
   "id": "julian-meditation",
   "metadata": {},
   "source": [
    "$$\n",
    "F = 2x^2 + 3xy + 4y^2\n",
    "$$"
   ]
  },
  {
   "cell_type": "code",
   "execution_count": 85,
   "id": "strange-press",
   "metadata": {},
   "outputs": [],
   "source": [
    "F = (2 * x ** 2) + ( 3 * x * y) + (4 * y ** 2) "
   ]
  },
  {
   "cell_type": "code",
   "execution_count": 86,
   "id": "hungarian-expression",
   "metadata": {},
   "outputs": [],
   "source": [
    "Q = (2 * v[0] ** 2) + ( 3 * v[0] * v[1]) + (4 * v[1] ** 2) "
   ]
  },
  {
   "cell_type": "code",
   "execution_count": 87,
   "id": "vocational-laugh",
   "metadata": {},
   "outputs": [],
   "source": [
    "F.backward()"
   ]
  },
  {
   "cell_type": "code",
   "execution_count": 88,
   "id": "possible-lending",
   "metadata": {},
   "outputs": [
    {
     "data": {
      "text/plain": [
       "tensor(7.)"
      ]
     },
     "execution_count": 88,
     "metadata": {},
     "output_type": "execute_result"
    }
   ],
   "source": [
    "x.grad"
   ]
  },
  {
   "cell_type": "code",
   "execution_count": 89,
   "id": "directed-cornwall",
   "metadata": {},
   "outputs": [
    {
     "data": {
      "text/plain": [
       "tensor(11.)"
      ]
     },
     "execution_count": 89,
     "metadata": {},
     "output_type": "execute_result"
    }
   ],
   "source": [
    "y.grad"
   ]
  },
  {
   "cell_type": "code",
   "execution_count": 90,
   "id": "considerable-layout",
   "metadata": {},
   "outputs": [],
   "source": [
    "Q.backward()"
   ]
  },
  {
   "cell_type": "code",
   "execution_count": 91,
   "id": "flying-clearance",
   "metadata": {},
   "outputs": [
    {
     "data": {
      "text/plain": [
       "tensor([ 7., 11.])"
      ]
     },
     "execution_count": 91,
     "metadata": {},
     "output_type": "execute_result"
    }
   ],
   "source": [
    "v.grad"
   ]
  },
  {
   "cell_type": "markdown",
   "id": "amended-biodiversity",
   "metadata": {},
   "source": [
    "Find the maximal directional derivative "
   ]
  },
  {
   "cell_type": "code",
   "execution_count": 92,
   "id": "textile-position",
   "metadata": {},
   "outputs": [
    {
     "data": {
      "text/plain": [
       "tensor(13.0384)"
      ]
     },
     "execution_count": 92,
     "metadata": {},
     "output_type": "execute_result"
    }
   ],
   "source": [
    "v.grad.norm()"
   ]
  },
  {
   "cell_type": "code",
   "execution_count": null,
   "id": "ultimate-benchmark",
   "metadata": {},
   "outputs": [],
   "source": []
  }
 ],
 "metadata": {
  "kernelspec": {
   "display_name": "Python 3",
   "language": "python",
   "name": "python3"
  },
  "language_info": {
   "codemirror_mode": {
    "name": "ipython",
    "version": 3
   },
   "file_extension": ".py",
   "mimetype": "text/x-python",
   "name": "python",
   "nbconvert_exporter": "python",
   "pygments_lexer": "ipython3",
   "version": "3.8.6"
  }
 },
 "nbformat": 4,
 "nbformat_minor": 5
}
