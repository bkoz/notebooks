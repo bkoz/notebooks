{
 "cells": [
  {
   "cell_type": "code",
   "execution_count": 1,
   "metadata": {},
   "outputs": [
    {
     "name": "stdout",
     "output_type": "stream",
     "text": [
      "Epoch 1/10\n",
      "1563/1563 [==============================] - 132s 57ms/step - loss: 2.3927 - accuracy: 0.2866\n",
      "Epoch 2/10\n",
      "1563/1563 [==============================] - 53s 34ms/step - loss: 2.0385 - accuracy: 0.3563\n",
      "Epoch 3/10\n",
      "1563/1563 [==============================] - 53s 34ms/step - loss: 1.9766 - accuracy: 0.3675\n",
      "Epoch 4/10\n",
      "1563/1563 [==============================] - 53s 34ms/step - loss: 1.8106 - accuracy: 0.4000\n",
      "Epoch 5/10\n",
      "1563/1563 [==============================] - 53s 34ms/step - loss: 1.9257 - accuracy: 0.3737\n",
      "Epoch 6/10\n",
      "1563/1563 [==============================] - 52s 33ms/step - loss: 2.0907 - accuracy: 0.3115\n",
      "Epoch 7/10\n",
      "1563/1563 [==============================] - 53s 34ms/step - loss: 1.8171 - accuracy: 0.3788\n",
      "Epoch 8/10\n",
      "1563/1563 [==============================] - 52s 34ms/step - loss: 1.5778 - accuracy: 0.4644\n",
      "Epoch 9/10\n",
      "1563/1563 [==============================] - 53s 34ms/step - loss: 1.4945 - accuracy: 0.4998\n",
      "Epoch 10/10\n",
      "1563/1563 [==============================] - 53s 34ms/step - loss: 1.4394 - accuracy: 0.5226\n",
      "313/313 - 4s - loss: 1.3611 - accuracy: 0.5192\n",
      "\n",
      "\n",
      "Training set contained 50000 images\n",
      "Testing set contained 10000 images\n",
      "Model achieved 0.52 testing accuracy\n",
      "Training and testing took 612.28 seconds\n"
     ]
    }
   ],
   "source": [
    "#import libraries\n",
    "import tensorflow as tf\n",
    "from time import perf_counter\n",
    "\n",
    "print(\"Num GPUs Available: \", len(tf.config.list_physical_devices('GPU')))\n",
    "\n",
    "#download cifar10 dataset\n",
    "cifar10 = tf.keras.datasets.cifar10\n",
    "(train_images, train_labels), (test_images, test_labels) = cifar10.load_data()\n",
    "\n",
    "train_set_count = len(train_labels)\n",
    "test_set_count = len(test_labels)\n",
    "\n",
    "#setup start time\n",
    "t1_start = perf_counter()\n",
    "\n",
    "#normalize images\n",
    "train_images = train_images / 255.0\n",
    "test_images = test_images / 255.0\n",
    "\n",
    "#create ML model using tensorflow provided ResNet50 model, note the [32, 32, 3] shape because that's the shape of cifar\n",
    "model = tf.keras.applications.ResNet50(\n",
    "    include_top=True, weights=None, input_tensor=None,\n",
    "    input_shape=(32, 32, 3), pooling=None, classes=10\n",
    ")\n",
    "\n",
    "# CIFAR 10 labels have one integer for each image (between 0 and 10)\n",
    "# We want to perform a cross entropy which requires a one hot encoded version e.g: [0.0, 0.0, 1.0, 0.0, 0.0...]\n",
    "train_labels = tf.one_hot(train_labels.reshape(-1), depth=10, axis=-1)\n",
    "\n",
    "# Do the same thing for the test labels\n",
    "test_labels = tf.one_hot(test_labels.reshape(-1), depth=10, axis=-1)\n",
    "\n",
    "#compile ML model, use non sparse version here because there is no sparse data.\n",
    "model.compile(optimizer='adam',\n",
    "              loss=tf.keras.losses.CategoricalCrossentropy(),\n",
    "              metrics=['accuracy'])\n",
    "\n",
    "#train ML model\n",
    "model.fit(train_images,  train_labels, epochs=10)\n",
    "\n",
    "#evaluate ML model on test set\n",
    "test_loss, test_acc = model.evaluate(test_images,  test_labels, verbose=2)\n",
    "\n",
    "#setup stop time\n",
    "t1_stop = perf_counter()\n",
    "total_time = t1_stop-t1_start\n",
    "\n",
    "#print results\n",
    "print('\\n')\n",
    "print(f'Training set contained {train_set_count} images')\n",
    "print(f'Testing set contained {test_set_count} images')\n",
    "print(f'Model achieved {test_acc:.2f} testing accuracy')\n",
    "print(f'Training and testing took {total_time:.2f} seconds')"
   ]
  },
  {
   "cell_type": "code",
   "execution_count": null,
   "metadata": {},
   "outputs": [],
   "source": []
  }
 ],
 "metadata": {
  "kernelspec": {
   "display_name": "Python 3",
   "language": "python",
   "name": "python3"
  },
  "language_info": {
   "codemirror_mode": {
    "name": "ipython",
    "version": 3
   },
   "file_extension": ".py",
   "mimetype": "text/x-python",
   "name": "python",
   "nbconvert_exporter": "python",
   "pygments_lexer": "ipython3",
   "version": "3.6.8"
  }
 },
 "nbformat": 4,
 "nbformat_minor": 4
}
