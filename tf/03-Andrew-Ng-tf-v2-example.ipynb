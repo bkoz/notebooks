{
 "cells": [
  {
   "cell_type": "markdown",
   "metadata": {},
   "source": [
    "# Tensorflow (version 2) Example\n",
    "## Taken from Andrew Ng's Course\n",
    "### https://www.youtube.com/watch?v=S9ElPZupUsE\n",
    "\n",
    "$$cost(w) = w^2 - 10w + 25$$"
   ]
  },
  {
   "cell_type": "code",
   "execution_count": 1,
   "metadata": {},
   "outputs": [
    {
     "name": "stdout",
     "output_type": "stream",
     "text": [
      "w = -3.0\n",
      "w = -1.4\n",
      "w = -0.119999886\n",
      "w = 0.90400016\n",
      "w = 1.7232001\n",
      "w = 2.37856\n",
      "w = 2.902848\n",
      "w = 3.3222785\n",
      "w = 3.6578228\n",
      "w = 3.9262583\n",
      "w = 4.1410065\n",
      "w = 4.312805\n",
      "w = 4.450244\n",
      "w = 4.560195\n",
      "w = 4.648156\n",
      "w = 4.718525\n",
      "w = 4.77482\n",
      "w = 4.8198557\n",
      "w = 4.8558846\n",
      "w = 4.8847075\n",
      "w = 4.907766\n",
      "w = 4.926213\n",
      "w = 4.9409704\n",
      "w = 4.9527764\n",
      "w = 4.962221\n",
      "w = 4.969777\n",
      "w = 4.9758215\n",
      "w = 4.980657\n",
      "w = 4.9845257\n",
      "w = 4.9876204\n",
      "w = 4.990096\n",
      "w = 4.992077\n",
      "w = 4.9936614\n",
      "w = 4.9949293\n",
      "w = 4.9959435\n",
      "w = 4.9967546\n",
      "w = 4.9974036\n",
      "w = 4.997923\n",
      "w = 4.998338\n",
      "w = 4.9986706\n",
      "w = 4.9989367\n",
      "w = 4.9991493\n",
      "w = 4.9993196\n",
      "w = 4.9994555\n",
      "w = 4.999564\n",
      "w = 4.9996514\n",
      "w = 4.999721\n",
      "w = 4.999777\n",
      "w = 4.9998217\n",
      "w = 4.9998574\n",
      "w = 4.999886\n",
      "w = 4.999909\n",
      "w = 4.999927\n",
      "w = 4.999942\n",
      "w = 4.9999533\n",
      "w = 4.999963\n",
      "w = 4.9999704\n",
      "w = 4.999976\n",
      "w = 4.999981\n",
      "w = 4.9999847\n",
      "w = 4.9999876\n",
      "w = 4.99999\n",
      "w = 4.999992\n",
      "w = 4.9999933\n",
      "w = 4.9999948\n",
      "w = 4.9999957\n",
      "w = 4.9999967\n",
      "w = 4.999997\n",
      "w = 4.9999976\n",
      "w = 4.999998\n"
     ]
    }
   ],
   "source": [
    "import numpy as np\n",
    "import tensorflow as tf\n",
    "\n",
    "opt = tf.keras.optimizers.SGD(learning_rate=0.1)\n",
    "\n",
    "# Initial guess.\n",
    "w = tf.Variable(-5.0)\n",
    "\n",
    "loss = lambda: w**2 + -10*w + 25       \n",
    "\n",
    "number_of_steps = 70\n",
    "for i in range(number_of_steps):    \n",
    "    step_count = opt.minimize(loss, [w]).numpy()\n",
    "    # Step is `- learning_rate * grad`\n",
    "    \n",
    "    print('w =', w.numpy())\n"
   ]
  },
  {
   "cell_type": "code",
   "execution_count": null,
   "metadata": {},
   "outputs": [],
   "source": []
  }
 ],
 "metadata": {
  "kernelspec": {
   "display_name": "Python 3",
   "language": "python",
   "name": "python3"
  },
  "language_info": {
   "codemirror_mode": {
    "name": "ipython",
    "version": 3
   },
   "file_extension": ".py",
   "mimetype": "text/x-python",
   "name": "python",
   "nbconvert_exporter": "python",
   "pygments_lexer": "ipython3",
   "version": "3.8.5"
  },
  "toc": {
   "base_numbering": 1,
   "nav_menu": {},
   "number_sections": true,
   "sideBar": true,
   "skip_h1_title": false,
   "title_cell": "Table of Contents",
   "title_sidebar": "Contents",
   "toc_cell": false,
   "toc_position": {},
   "toc_section_display": true,
   "toc_window_display": false
  }
 },
 "nbformat": 4,
 "nbformat_minor": 4
}
