{
 "cells": [
  {
   "cell_type": "code",
   "execution_count": 1,
   "metadata": {},
   "outputs": [
    {
     "name": "stdout",
     "output_type": "stream",
     "text": [
      "KMeans(n_clusters=7)\n",
      "True\n",
      "0\n",
      "True\n",
      "5\n",
      "True\n",
      "1\n"
     ]
    }
   ],
   "source": [
    "#\n",
    "# https://chapeau.freevariable.com/2018/10/model-s2i.html\n",
    "#\n",
    "\n",
    "import numpy as np\n",
    "from sklearn.cluster import KMeans\n",
    "\n",
    "def predictor(x):\n",
    "    return kmodel.predict([x]).tolist()[0]\n",
    "\n",
    "def validator(x):\n",
    "    return len(x) == DIMENSIONS\n",
    "\n",
    "DIMENSIONS = 2\n",
    "randos = np.random.random((40000,DIMENSIONS))\n",
    "\n",
    "kmodel = KMeans(n_clusters=7).fit(randos)\n",
    "\n",
    "print(kmodel)\n",
    "x = [[0, 0], [0.5, 0.5], [0.999, 0.999]]\n",
    "for i in x:\n",
    "    print(validator(i))\n",
    "    print(predictor(i))"
   ]
  },
  {
   "cell_type": "code",
   "execution_count": null,
   "metadata": {},
   "outputs": [],
   "source": []
  }
 ],
 "metadata": {
  "kernelspec": {
   "display_name": "Python 3",
   "language": "python",
   "name": "python3"
  },
  "language_info": {
   "codemirror_mode": {
    "name": "ipython",
    "version": 3
   },
   "file_extension": ".py",
   "mimetype": "text/x-python",
   "name": "python",
   "nbconvert_exporter": "python",
   "pygments_lexer": "ipython3",
   "version": "3.8.6"
  }
 },
 "nbformat": 4,
 "nbformat_minor": 4
}
